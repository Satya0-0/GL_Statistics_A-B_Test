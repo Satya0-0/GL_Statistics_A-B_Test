{
 "cells": [
  {
   "cell_type": "code",
   "execution_count": 1,
   "id": "7b61950b-8c00-4a96-a559-25c288391360",
   "metadata": {},
   "outputs": [],
   "source": [
    "import numpy as np\n",
    "import pandas as pd\n",
    "import matplotlib.pyplot as plt\n",
    "import seaborn as sns\n",
    "import scipy.stats as stats"
   ]
  },
  {
   "cell_type": "markdown",
   "id": "a4805258-3e5c-48b0-ac44-58366e472c03",
   "metadata": {},
   "source": [
    "## Reading the data from the .csv file"
   ]
  },
  {
   "cell_type": "code",
   "execution_count": 69,
   "id": "2debef70-45e2-4fdf-841d-292e80e6f85f",
   "metadata": {},
   "outputs": [],
   "source": [
    "data = pd.read_csv(r\"C:\\Users\\stnar\\Desktop\\PGP - AIML\\W7 - Applied Statistics Project\\Dataset_CSV; abtest.csv\", header =0)"
   ]
  },
  {
   "cell_type": "markdown",
   "id": "530ecbbc-0bdf-49b5-9cb2-0d842ffffd2f",
   "metadata": {},
   "source": [
    "### Displaying first 5 rows of the dataset"
   ]
  },
  {
   "cell_type": "code",
   "execution_count": 3,
   "id": "0305bba2-1db1-4857-ba45-07f8e7616f7d",
   "metadata": {},
   "outputs": [
    {
     "data": {
      "text/html": [
       "<div>\n",
       "<style scoped>\n",
       "    .dataframe tbody tr th:only-of-type {\n",
       "        vertical-align: middle;\n",
       "    }\n",
       "\n",
       "    .dataframe tbody tr th {\n",
       "        vertical-align: top;\n",
       "    }\n",
       "\n",
       "    .dataframe thead th {\n",
       "        text-align: right;\n",
       "    }\n",
       "</style>\n",
       "<table border=\"1\" class=\"dataframe\">\n",
       "  <thead>\n",
       "    <tr style=\"text-align: right;\">\n",
       "      <th></th>\n",
       "      <th>user_id</th>\n",
       "      <th>group</th>\n",
       "      <th>landing_page</th>\n",
       "      <th>time_spent_on_the_page</th>\n",
       "      <th>converted</th>\n",
       "      <th>language_preferred</th>\n",
       "    </tr>\n",
       "  </thead>\n",
       "  <tbody>\n",
       "    <tr>\n",
       "      <th>0</th>\n",
       "      <td>546592</td>\n",
       "      <td>control</td>\n",
       "      <td>old</td>\n",
       "      <td>3.48</td>\n",
       "      <td>no</td>\n",
       "      <td>Spanish</td>\n",
       "    </tr>\n",
       "    <tr>\n",
       "      <th>1</th>\n",
       "      <td>546468</td>\n",
       "      <td>treatment</td>\n",
       "      <td>new</td>\n",
       "      <td>7.13</td>\n",
       "      <td>yes</td>\n",
       "      <td>English</td>\n",
       "    </tr>\n",
       "    <tr>\n",
       "      <th>2</th>\n",
       "      <td>546462</td>\n",
       "      <td>treatment</td>\n",
       "      <td>new</td>\n",
       "      <td>4.40</td>\n",
       "      <td>no</td>\n",
       "      <td>Spanish</td>\n",
       "    </tr>\n",
       "    <tr>\n",
       "      <th>3</th>\n",
       "      <td>546567</td>\n",
       "      <td>control</td>\n",
       "      <td>old</td>\n",
       "      <td>3.02</td>\n",
       "      <td>no</td>\n",
       "      <td>French</td>\n",
       "    </tr>\n",
       "    <tr>\n",
       "      <th>4</th>\n",
       "      <td>546459</td>\n",
       "      <td>treatment</td>\n",
       "      <td>new</td>\n",
       "      <td>4.75</td>\n",
       "      <td>yes</td>\n",
       "      <td>Spanish</td>\n",
       "    </tr>\n",
       "  </tbody>\n",
       "</table>\n",
       "</div>"
      ],
      "text/plain": [
       "   user_id      group landing_page  time_spent_on_the_page converted  \\\n",
       "0   546592    control          old                    3.48        no   \n",
       "1   546468  treatment          new                    7.13       yes   \n",
       "2   546462  treatment          new                    4.40        no   \n",
       "3   546567    control          old                    3.02        no   \n",
       "4   546459  treatment          new                    4.75       yes   \n",
       "\n",
       "  language_preferred  \n",
       "0            Spanish  \n",
       "1            English  \n",
       "2            Spanish  \n",
       "3             French  \n",
       "4            Spanish  "
      ]
     },
     "execution_count": 3,
     "metadata": {},
     "output_type": "execute_result"
    }
   ],
   "source": [
    "data.head()"
   ]
  },
  {
   "cell_type": "markdown",
   "id": "7f7c631b-1eb6-434a-a972-2ac490d11d00",
   "metadata": {},
   "source": [
    "### Checking the shape of the dataset along with its numerical column summaries"
   ]
  },
  {
   "cell_type": "code",
   "execution_count": 4,
   "id": "ce958741-d3c3-4b02-aba1-74645e528cc6",
   "metadata": {},
   "outputs": [
    {
     "data": {
      "text/plain": [
       "(100, 6)"
      ]
     },
     "execution_count": 4,
     "metadata": {},
     "output_type": "execute_result"
    }
   ],
   "source": [
    "data.shape"
   ]
  },
  {
   "cell_type": "code",
   "execution_count": 5,
   "id": "5bc41481-8dea-4c21-a5ab-e532925ad9c1",
   "metadata": {},
   "outputs": [
    {
     "data": {
      "text/html": [
       "<div>\n",
       "<style scoped>\n",
       "    .dataframe tbody tr th:only-of-type {\n",
       "        vertical-align: middle;\n",
       "    }\n",
       "\n",
       "    .dataframe tbody tr th {\n",
       "        vertical-align: top;\n",
       "    }\n",
       "\n",
       "    .dataframe thead th {\n",
       "        text-align: right;\n",
       "    }\n",
       "</style>\n",
       "<table border=\"1\" class=\"dataframe\">\n",
       "  <thead>\n",
       "    <tr style=\"text-align: right;\">\n",
       "      <th></th>\n",
       "      <th>user_id</th>\n",
       "      <th>time_spent_on_the_page</th>\n",
       "    </tr>\n",
       "  </thead>\n",
       "  <tbody>\n",
       "    <tr>\n",
       "      <th>count</th>\n",
       "      <td>100.000000</td>\n",
       "      <td>100.000000</td>\n",
       "    </tr>\n",
       "    <tr>\n",
       "      <th>mean</th>\n",
       "      <td>546517.000000</td>\n",
       "      <td>5.377800</td>\n",
       "    </tr>\n",
       "    <tr>\n",
       "      <th>std</th>\n",
       "      <td>52.295779</td>\n",
       "      <td>2.378166</td>\n",
       "    </tr>\n",
       "    <tr>\n",
       "      <th>min</th>\n",
       "      <td>546443.000000</td>\n",
       "      <td>0.190000</td>\n",
       "    </tr>\n",
       "    <tr>\n",
       "      <th>25%</th>\n",
       "      <td>546467.750000</td>\n",
       "      <td>3.880000</td>\n",
       "    </tr>\n",
       "    <tr>\n",
       "      <th>50%</th>\n",
       "      <td>546492.500000</td>\n",
       "      <td>5.415000</td>\n",
       "    </tr>\n",
       "    <tr>\n",
       "      <th>75%</th>\n",
       "      <td>546567.250000</td>\n",
       "      <td>7.022500</td>\n",
       "    </tr>\n",
       "    <tr>\n",
       "      <th>max</th>\n",
       "      <td>546592.000000</td>\n",
       "      <td>10.710000</td>\n",
       "    </tr>\n",
       "  </tbody>\n",
       "</table>\n",
       "</div>"
      ],
      "text/plain": [
       "             user_id  time_spent_on_the_page\n",
       "count     100.000000              100.000000\n",
       "mean   546517.000000                5.377800\n",
       "std        52.295779                2.378166\n",
       "min    546443.000000                0.190000\n",
       "25%    546467.750000                3.880000\n",
       "50%    546492.500000                5.415000\n",
       "75%    546567.250000                7.022500\n",
       "max    546592.000000               10.710000"
      ]
     },
     "execution_count": 5,
     "metadata": {},
     "output_type": "execute_result"
    }
   ],
   "source": [
    "data.describe()"
   ]
  },
  {
   "cell_type": "code",
   "execution_count": 6,
   "id": "6eb0bb48-1271-464e-8fa3-f5c33fd97e7d",
   "metadata": {},
   "outputs": [
    {
     "name": "stdout",
     "output_type": "stream",
     "text": [
      "<class 'pandas.core.frame.DataFrame'>\n",
      "RangeIndex: 100 entries, 0 to 99\n",
      "Data columns (total 6 columns):\n",
      " #   Column                  Non-Null Count  Dtype  \n",
      "---  ------                  --------------  -----  \n",
      " 0   user_id                 100 non-null    int64  \n",
      " 1   group                   100 non-null    object \n",
      " 2   landing_page            100 non-null    object \n",
      " 3   time_spent_on_the_page  100 non-null    float64\n",
      " 4   converted               100 non-null    object \n",
      " 5   language_preferred      100 non-null    object \n",
      "dtypes: float64(1), int64(1), object(4)\n",
      "memory usage: 4.8+ KB\n"
     ]
    }
   ],
   "source": [
    "data.info()"
   ]
  },
  {
   "cell_type": "markdown",
   "id": "aad05861-4ff7-4f83-89a9-ccf45af5cb29",
   "metadata": {},
   "source": [
    "It is observed that there are 4 string type columns and only 2 numerical columns in the provided dataset.\n",
    "The column \"USER_ID\" is numerical but cannot be considered for the EDA since it is a unique identifier of the user."
   ]
  },
  {
   "cell_type": "markdown",
   "id": "c066947d-8261-4def-9d8c-31bb370d3f3d",
   "metadata": {},
   "source": [
    "#### Exploring the unique values in the dataset"
   ]
  },
  {
   "cell_type": "code",
   "execution_count": 7,
   "id": "051a3abd-afe3-4c80-9877-26dca3eb0b2b",
   "metadata": {},
   "outputs": [
    {
     "name": "stdout",
     "output_type": "stream",
     "text": [
      "['control' 'treatment']\n",
      "['old' 'new']\n",
      "['no' 'yes']\n",
      "['Spanish' 'English' 'French']\n"
     ]
    }
   ],
   "source": [
    "col = data.columns\n",
    "cols = list(col)\n",
    "\n",
    "#Variable \"user_id\" is a unique identifier and \"time_spent_on_the_page\" must be a continous variable. So, eliminating them from the list \n",
    "\n",
    "cols.remove(\"user_id\")\n",
    "cols.remove(\"time_spent_on_the_page\")\n",
    "\n",
    "for i in cols:\n",
    "    print(data[i].unique())"
   ]
  },
  {
   "cell_type": "markdown",
   "id": "918eaab5-dbde-4d12-8f51-5ffba6eb743c",
   "metadata": {},
   "source": [
    "Now we observe the following;\n",
    "1. Variables \"group\", \"landing_page\", and \"converted\" are binary variables\n",
    "2. There are only 3 preferred values for the \"languages\" variable"
   ]
  },
  {
   "cell_type": "markdown",
   "id": "44b8d4b9-bd12-4e99-99dd-cb7491339911",
   "metadata": {},
   "source": [
    "## EDA\n",
    "\n",
    "### Univariate and Bivariate Analysis"
   ]
  },
  {
   "cell_type": "code",
   "execution_count": 8,
   "id": "3a3fe853-2fe3-4add-b8df-af40612bb864",
   "metadata": {},
   "outputs": [
    {
     "data": {
      "text/plain": [
       "user_id                   0\n",
       "group                     0\n",
       "landing_page              0\n",
       "time_spent_on_the_page    0\n",
       "converted                 0\n",
       "language_preferred        0\n",
       "dtype: int64"
      ]
     },
     "execution_count": 8,
     "metadata": {},
     "output_type": "execute_result"
    }
   ],
   "source": [
    "# Determining Null Values in the columns\n",
    "\n",
    "data.isnull().sum()"
   ]
  },
  {
   "cell_type": "markdown",
   "id": "907c1658-3ac0-43db-a67e-b0f7c5b36d61",
   "metadata": {},
   "source": [
    "The dataset has no null values"
   ]
  },
  {
   "cell_type": "markdown",
   "id": "30a9eba0-0734-49eb-92da-6ab7ca12dc23",
   "metadata": {},
   "source": [
    "#### Histogram of \"time_spent_on_the_page\" variable"
   ]
  },
  {
   "cell_type": "code",
   "execution_count": 46,
   "id": "4abaa328-840b-4682-b19a-c833339bbfbd",
   "metadata": {},
   "outputs": [
    {
     "name": "stderr",
     "output_type": "stream",
     "text": [
      "C:\\Users\\stnar\\anaconda3\\Lib\\site-packages\\seaborn\\_oldcore.py:1119: FutureWarning: use_inf_as_na option is deprecated and will be removed in a future version. Convert inf values to NaN before operating instead.\n",
      "  with pd.option_context('mode.use_inf_as_na', True):\n",
      "C:\\Users\\stnar\\anaconda3\\Lib\\site-packages\\seaborn\\_oldcore.py:1119: FutureWarning: use_inf_as_na option is deprecated and will be removed in a future version. Convert inf values to NaN before operating instead.\n",
      "  with pd.option_context('mode.use_inf_as_na', True):\n"
     ]
    },
    {
     "data": {
      "image/png": "[encoded data removed]",
      "text/plain": [
       "<Figure size 600x300 with 2 Axes>"
      ]
     },
     "metadata": {},
     "output_type": "display_data"
    }
   ],
   "source": [
    "# plt.figsize=(3,3)\n",
    "grid = sns.FacetGrid(data, col=\"group\")\n",
    "grid.map(sns.histplot, \"time_spent_on_the_page\",kde=True)\n",
    "plt.show();"
   ]
  },
  {
   "cell_type": "code",
   "execution_count": 44,
   "id": "90b1c9df-904f-40b9-9153-501c4fab746a",
   "metadata": {},
   "outputs": [
    {
     "data": {
      "image/png": "[encoded data removed]",
      "text/plain": [
       "<Figure size 640x480 with 1 Axes>"
      ]
     },
     "metadata": {},
     "output_type": "display_data"
    }
   ],
   "source": [
    "plt.figsize = (4,4)\n",
    "sns.barplot(data, x= \"converted\", y = \"time_spent_on_the_page\", hue = 'group', palette = \"rocket\", errorbar = None)\n",
    "plt.show()"
   ]
  },
  {
   "cell_type": "markdown",
   "id": "bf292ef8-b938-4f3a-a4ce-d041a414932e",
   "metadata": {},
   "source": [
    "## Understanding relationships between categorical variables"
   ]
  },
  {
   "cell_type": "code",
   "execution_count": 31,
   "id": "564a9b3b-6020-4988-9ef5-642194c80858",
   "metadata": {},
   "outputs": [
    {
     "name": "stdout",
     "output_type": "stream",
     "text": [
      "converted  no  yes\n",
      "group             \n",
      "control    29   21\n",
      "treatment  17   33\n"
     ]
    }
   ],
   "source": [
    "# Analyzing conversion rates between \"group\" and \"converted\" using \"crosstab()\" since both these variables are categorical\n",
    "\n",
    "conversion_by_group = pd.crosstab(data['group'], data['converted'])\n",
    "print(conversion_by_group)"
   ]
  },
  {
   "cell_type": "code",
   "execution_count": 32,
   "id": "a69ab0cf-0eac-4c0d-a0e6-16c0ed15043c",
   "metadata": {},
   "outputs": [
    {
     "name": "stdout",
     "output_type": "stream",
     "text": [
      "converted     no  yes\n",
      "landing_page         \n",
      "new           17   33\n",
      "old           29   21\n"
     ]
    }
   ],
   "source": [
    "# Similarly, analyzing how \"landing_page\" and \"converted\" are related\n",
    "\n",
    "conversion_by_landing_page = pd.crosstab(data['landing_page'], data['converted'])\n",
    "print(conversion_by_landing_page)"
   ]
  },
  {
   "cell_type": "markdown",
   "id": "9da28a31-8504-480c-b30e-3bb244866f20",
   "metadata": {},
   "source": [
    "## Insights basis EDA:\n",
    "\n",
    "1. There are no NULL values in the dataset\n",
    "2. There are 4 string type columns and only 2 numerical columns in the provided dataset. The column \"USER_ID\" is numerical but cannot be considered for the EDA since it is a unique identifier of the user.\n",
    "3. Variables \"group\", \"landing_page\", and \"converted\" are binary variables and there are only 3 preferred values for the \"languages\" variable\n",
    "4. The \"timespent on average\" histogram seems to be normally distributed for \"Treatment\" group while \"Control\" group's histogram seems right skewede"
   ]
  },
  {
   "cell_type": "markdown",
   "id": "c3ee99c8-6f0a-45ae-8bde-ea57ca090832",
   "metadata": {},
   "source": [
    " "
   ]
  },
  {
   "cell_type": "markdown",
   "id": "40a65d13-08f5-4fe0-a7c0-fac969b2c423",
   "metadata": {},
   "source": [
    "# Task-1\n",
    "\n",
    "## Do the users spend more time on the new landing page than the old landing page"
   ]
  },
  {
   "cell_type": "markdown",
   "id": "97bfd520-0e64-4160-8cd4-2d4b528c2fca",
   "metadata": {},
   "source": [
    "To find out if users spend more time on new landing page than the previous one, we can use the means of both the samples.\n",
    "\n",
    "Let _m1_ be the mean time spent on new landing page\n",
    "\n",
    "And let _m2_ be the mean time spent on old landing page  "
   ]
  },
  {
   "cell_type": "code",
   "execution_count": 57,
   "id": "56836b1c-01e1-455b-9d9e-3b702b7e03f0",
   "metadata": {},
   "outputs": [
    {
     "name": "stdout",
     "output_type": "stream",
     "text": [
      "Mean time spent on new landing page:  6.22 mins\n",
      "Mean time spent on old landing page:  4.53 mins\n"
     ]
    }
   ],
   "source": [
    "m1=data[data[\"landing_page\"] == \"new\"][\"time_spent_on_the_page\"].mean()\n",
    "m2=data[data[\"landing_page\"] == \"old\"][\"time_spent_on_the_page\"].mean()\n",
    "print(\"Mean time spent on new landing page: \", round(m1,2), \"mins\")\n",
    "print(\"Mean time spent on old landing page: \", round(m2,2), \"mins\")"
   ]
  },
  {
   "cell_type": "markdown",
   "id": "d269f722-3435-49a5-ba4c-ca91bdacae82",
   "metadata": {},
   "source": [
    " "
   ]
  },
  {
   "cell_type": "markdown",
   "id": "570dba05-5891-4909-bbef-b1569010e172",
   "metadata": {},
   "source": [
    "Basis the problem statment, we formulate our NULL Hypothese (H0) and Alternative Hypothesis (Ha) as;\n",
    "\n",
    "H0: m1 <= m2  \n",
    "Ha: m1 > m2\n",
    "\n",
    "Here we make the following assumptions:\n",
    "1. Our sample size in each of classes greater than 30 (we have 50)\n",
    "2. And the samples provided are randomly chosen\n",
    "3. Standard Deviation is unknown\n",
    "\n",
    "Since, Standard Deviation is unknown, we will be using the **_2 Sample Independent T-Test_** to get to the solution"
   ]
  },
  {
   "cell_type": "code",
   "execution_count": 59,
   "id": "def73c99-10bf-4e81-88bd-8b0012b5fecd",
   "metadata": {},
   "outputs": [],
   "source": [
    "sample1 = data[data[\"landing_page\"] == \"new\"][\"time_spent_on_the_page\"]\n",
    "sample2 = data[data[\"landing_page\"] == \"old\"][\"time_spent_on_the_page\"]"
   ]
  },
  {
   "cell_type": "code",
   "execution_count": 63,
   "id": "e578216f-ee6c-40c5-908e-3e4a3f93e81e",
   "metadata": {},
   "outputs": [
    {
     "name": "stdout",
     "output_type": "stream",
     "text": [
      "p-value is:  0.0001316123528095005\n"
     ]
    }
   ],
   "source": [
    "from scipy.stats import ttest_ind\n",
    "\n",
    "t_statistic, p_value = stats.ttest_ind(sample1, sample2, equal_var=True, alternative='greater')\n",
    "\n",
    "print(\"p-value is: \", p_value)"
   ]
  },
  {
   "cell_type": "markdown",
   "id": "b2818978-7c49-4b05-bd3e-ec50a180c19b",
   "metadata": {},
   "source": [
    "#####  \n",
    "\n",
    "##### Provided the significance level of 0.05 and we received a _p-value_ (0.00013) << 0.05. \n",
    "#### We conclude Null Hypothesis can be REJECTED and the users spend more time on the new landing page than the old landing page "
   ]
  },
  {
   "cell_type": "markdown",
   "id": "3fb6c7f6-c3b1-4c47-808b-3c204ae17acc",
   "metadata": {},
   "source": [
    " "
   ]
  },
  {
   "cell_type": "markdown",
   "id": "9d99ccdd-1b5e-407e-83b0-5de14bd63b9d",
   "metadata": {},
   "source": [
    " "
   ]
  },
  {
   "cell_type": "markdown",
   "id": "890db3d8-9de1-4286-9881-e1f2975d8b89",
   "metadata": {},
   "source": [
    "# Task - 2 \n",
    "\n",
    "## Is the conversion rate for the new page greater than that of old page?"
   ]
  },
  {
   "cell_type": "code",
   "execution_count": 70,
   "id": "785ed6f7-0a89-4cd1-b72e-998e8dba061b",
   "metadata": {},
   "outputs": [
    {
     "data": {
      "text/html": [
       "<div>\n",
       "<style scoped>\n",
       "    .dataframe tbody tr th:only-of-type {\n",
       "        vertical-align: middle;\n",
       "    }\n",
       "\n",
       "    .dataframe tbody tr th {\n",
       "        vertical-align: top;\n",
       "    }\n",
       "\n",
       "    .dataframe thead th {\n",
       "        text-align: right;\n",
       "    }\n",
       "</style>\n",
       "<table border=\"1\" class=\"dataframe\">\n",
       "  <thead>\n",
       "    <tr style=\"text-align: right;\">\n",
       "      <th></th>\n",
       "      <th>user_id</th>\n",
       "      <th>group</th>\n",
       "      <th>landing_page</th>\n",
       "      <th>time_spent_on_the_page</th>\n",
       "      <th>converted</th>\n",
       "      <th>language_preferred</th>\n",
       "      <th>convert_num</th>\n",
       "    </tr>\n",
       "  </thead>\n",
       "  <tbody>\n",
       "    <tr>\n",
       "      <th>0</th>\n",
       "      <td>546592</td>\n",
       "      <td>control</td>\n",
       "      <td>old</td>\n",
       "      <td>3.48</td>\n",
       "      <td>no</td>\n",
       "      <td>Spanish</td>\n",
       "      <td>0</td>\n",
       "    </tr>\n",
       "    <tr>\n",
       "      <th>1</th>\n",
       "      <td>546468</td>\n",
       "      <td>treatment</td>\n",
       "      <td>new</td>\n",
       "      <td>7.13</td>\n",
       "      <td>yes</td>\n",
       "      <td>English</td>\n",
       "      <td>1</td>\n",
       "    </tr>\n",
       "    <tr>\n",
       "      <th>2</th>\n",
       "      <td>546462</td>\n",
       "      <td>treatment</td>\n",
       "      <td>new</td>\n",
       "      <td>4.40</td>\n",
       "      <td>no</td>\n",
       "      <td>Spanish</td>\n",
       "      <td>0</td>\n",
       "    </tr>\n",
       "    <tr>\n",
       "      <th>3</th>\n",
       "      <td>546567</td>\n",
       "      <td>control</td>\n",
       "      <td>old</td>\n",
       "      <td>3.02</td>\n",
       "      <td>no</td>\n",
       "      <td>French</td>\n",
       "      <td>0</td>\n",
       "    </tr>\n",
       "    <tr>\n",
       "      <th>4</th>\n",
       "      <td>546459</td>\n",
       "      <td>treatment</td>\n",
       "      <td>new</td>\n",
       "      <td>4.75</td>\n",
       "      <td>yes</td>\n",
       "      <td>Spanish</td>\n",
       "      <td>1</td>\n",
       "    </tr>\n",
       "  </tbody>\n",
       "</table>\n",
       "</div>"
      ],
      "text/plain": [
       "   user_id      group landing_page  time_spent_on_the_page converted  \\\n",
       "0   546592    control          old                    3.48        no   \n",
       "1   546468  treatment          new                    7.13       yes   \n",
       "2   546462  treatment          new                    4.40        no   \n",
       "3   546567    control          old                    3.02        no   \n",
       "4   546459  treatment          new                    4.75       yes   \n",
       "\n",
       "  language_preferred  convert_num  \n",
       "0            Spanish            0  \n",
       "1            English            1  \n",
       "2            Spanish            0  \n",
       "3             French            0  \n",
       "4            Spanish            1  "
      ]
     },
     "execution_count": 70,
     "metadata": {},
     "output_type": "execute_result"
    }
   ],
   "source": [
    "# Adding a new column called 'Convert_Num' which is numeric in nature (0- No, 1-Yes)\n",
    "\n",
    "data['convert_num'] = data['converted'].map({\"no\":0, \"yes\":1})\n",
    "data.head()"
   ]
  },
  {
   "cell_type": "markdown",
   "id": "52deb4a2-293c-4eaf-979a-612ae6979d33",
   "metadata": {},
   "source": [
    "#### Here, we note that the coverted status is a binary variable. And the disturbution seems to _Binomial_ in nature.\n",
    "\n",
    "#### Also, considering there are two populations, old and new (basis \"groups\" variable), we will be using a one-tailed test, concerning two populations. So, we will use **Two proportions Z-Test** for this problemt"
   ]
  },
  {
   "cell_type": "markdown",
   "id": "c8bd8126-de09-4331-adbf-875285efa078",
   "metadata": {},
   "source": [
    " "
   ]
  },
  {
   "cell_type": "markdown",
   "id": "1e65ae33-fe70-4714-9551-a35291b323a5",
   "metadata": {},
   "source": [
    "Below are the following assumptions we make;\r\n",
    "\r\n",
    "1. Binomially distributed populations\r\n",
    "2. Independent populations\r\n",
    "3. Random sampling from the populations\r\n",
    "4. When both mean (np) and n(1-p) are greater than or equal to 10, the binomial distribution can be approximated by a normal distribution"
   ]
  },
  {
   "cell_type": "code",
   "execution_count": 81,
   "id": "2a0ce813-3e3e-4799-9430-0a58c9435d45",
   "metadata": {},
   "outputs": [
    {
     "name": "stdout",
     "output_type": "stream",
     "text": [
      " New conversion rate is : 0.66 \n",
      " Old conversion rate is : 0.42\n"
     ]
    }
   ],
   "source": [
    "# Calculating np and n(1-p) values;\n",
    "\n",
    "new_converse_count = data[data[\"landing_page\"] == \"new\"][\"convert_num\"].sum()\n",
    "old_converse_count = data[data[\"landing_page\"] == \"old\"][\"convert_num\"].sum()\n",
    "\n",
    "r_new = new_converse_count/50\n",
    "r_old = old_converse_count/50\n",
    "\n",
    "print(\" New conversion rate is :\",r_new, \"\\n\", \"Old conversion rate is :\",r_old)"
   ]
  },
  {
   "cell_type": "markdown",
   "id": "879cc4a1-e62f-483e-96ed-04a6c6287e3a",
   "metadata": {},
   "source": [
    "Clearly, new_converse_count, old_converse_count are **> 10**.\n",
    "\n",
    "So, we can apply _Two proportions Z-Test_\n",
    "\n",
    "##### Here, our H0, Ha will be the following;\n",
    "\n",
    "**H0: r_new <= r_old**\n",
    "\n",
    "**Ha: r_new > r_old**"
   ]
  },
  {
   "cell_type": "code",
   "execution_count": 92,
   "id": "e168d1a4-4c18-4373-a5a7-2257c5ba58fa",
   "metadata": {},
   "outputs": [
    {
     "name": "stdout",
     "output_type": "stream",
     "text": [
      "p-value is:  1.8127329420025457e-10\n"
     ]
    }
   ],
   "source": [
    "val = r_new - r_old\n",
    "\n",
    "from statsmodels.stats.proportion import proportions_ztest\n",
    "\n",
    "tstat, pval = proportions_ztest(count = new_converse_count, nobs = 50, value= val, alternative='larger')\n",
    "\n",
    "print(\"p-value is: \", pval)"
   ]
  },
  {
   "cell_type": "markdown",
   "id": "ca719cfd-7426-439c-a05e-1d28ca898281",
   "metadata": {},
   "source": [
    "#### Since the p-value (1.81e-10) << Significance Level (0.05), we can REJECT the NULL Hypothesis\n",
    "\n",
    "### Hence, we conclude conversion rate for the new page greater than that of old page"
   ]
  },
  {
   "cell_type": "markdown",
   "id": "900401ed-8314-450c-9bf8-ad60dae2c02f",
   "metadata": {},
   "source": [
    " "
   ]
  },
  {
   "cell_type": "markdown",
   "id": "d709cf75-ae33-4ea0-ba6d-09d3d970ebb8",
   "metadata": {},
   "source": [
    "# Task - 3\n",
    "\n",
    "## Does the converted status depend on the preferred language?"
   ]
  },
  {
   "cell_type": "markdown",
   "id": "7e4c7fe6-cfc5-4130-aeaa-42b77ceb79ac",
   "metadata": {},
   "source": [
    "Here, we are dealing with two discrete variables; _converted_status_ and _language_.\n",
    "\n",
    "So, we'll be applying a Chi-Square test to determine if conversion of a user depends on their language or not.\n",
    "\n",
    "Hence, below will be our H0 and Ha;\n",
    "\n",
    "**H0: _converted_status_ is independent of _language_**\n",
    "\n",
    "**Ha: _converted_status_ is _dependent_ of _language_**"
   ]
  },
  {
   "cell_type": "code",
   "execution_count": 95,
   "id": "bfd6f785-f206-4fd0-9c3d-287dda9f66a6",
   "metadata": {},
   "outputs": [
    {
     "name": "stdout",
     "output_type": "stream",
     "text": [
      "The contingency matrix is: \n",
      " [[11 19 16]\n",
      " [21 15 18]]\n"
     ]
    }
   ],
   "source": [
    "# Since both are categorical variables, we'll be creating a contingencey matrix;\n",
    "\n",
    "from sklearn.metrics.cluster import contingency_matrix\n",
    "\n",
    "cm = contingency_matrix(data['converted'], data['language_preferred'])\n",
    "\n",
    "print(\"The contingency matrix is:\", \"\\n\", cm)"
   ]
  },
  {
   "cell_type": "markdown",
   "id": "38a516a8-587f-4e2f-b7e4-697e9bae8cd9",
   "metadata": {},
   "source": [
    "From the above, we observe the following:\r\n",
    "\r\n",
    "1. Both are categorical variables\r\n",
    "2. Expected value of the number of sample observations in each level of the variable is at least 5\r\n",
    "3. Random sample from the population is considered\r\n",
    "\r\n",
    "So, we can proceed with Chi-Square test"
   ]
  },
  {
   "cell_type": "code",
   "execution_count": 103,
   "id": "dea29bce-0a3b-41e7-9469-4e2485d58639",
   "metadata": {},
   "outputs": [
    {
     "name": "stdout",
     "output_type": "stream",
     "text": [
      "P-value is:  0.21298887487543447\n"
     ]
    }
   ],
   "source": [
    "from scipy.stats import chi2_contingency\n",
    "\n",
    "stat, pval, *_ = chi2_contingency(cm)\n",
    "\n",
    "print(\"P-value is: \", pval)"
   ]
  },
  {
   "cell_type": "markdown",
   "id": "b3765180-0e51-49b9-ab0f-1bc7eed5dd03",
   "metadata": {},
   "source": [
    "#### Since the p-value (0.213) > Significance Level (0.05), we can FAIL TO REJECT the NULL Hypothesis\r\n",
    "\r\n",
    "### Hence, we conclude that _converted_status_ is independent of _language_preferred_"
   ]
  },
  {
   "cell_type": "markdown",
   "id": "a60c4245-bb86-4cbc-a877-6ffdb3de5b13",
   "metadata": {},
   "source": [
    " "
   ]
  },
  {
   "cell_type": "markdown",
   "id": "529affcd-bea6-4d67-99c7-56ed14de6491",
   "metadata": {},
   "source": [
    "# Task - 4\n",
    "\n",
    "## Is the mean time spent on the new page same for the different language users?"
   ]
  },
  {
   "cell_type": "markdown",
   "id": "314708de-1268-487a-b8b6-75dca9e972af",
   "metadata": {},
   "source": [
    "Here, we require to analyse the mean time spent by users of different languages on the new page and confirm whether they're the same.\n",
    "\n",
    "We can clearly use **ANOVA** Test since we are comparing means of different population at once.\n",
    "\n",
    "So, let _m1, m2, m3_ be mean time for users basis the languages on the new page respectively. (Since we have only 3 languages)  "
   ]
  },
  {
   "cell_type": "code",
   "execution_count": 122,
   "id": "896d50fc-847a-4913-96e6-42765581c267",
   "metadata": {},
   "outputs": [
    {
     "name": "stdout",
     "output_type": "stream",
     "text": [
      "The mean time spent on new landing page by users with preferred language 'Spanish' is: 5.84\n",
      "The mean time spent on new landing page by users with preferred language 'English' is: 6.66\n",
      "The mean time spent on new landing page by users with preferred language 'French' is: 6.2\n"
     ]
    }
   ],
   "source": [
    "#Calculating mean time spent by users of different languages on the new page;\n",
    "\n",
    "m1 = data.query(\"language_preferred == 'Spanish' & landing_page == 'new'\")[\"time_spent_on_the_page\"].mean()\n",
    "m2 = data.query(\"language_preferred == 'English' & landing_page == 'new'\")[\"time_spent_on_the_page\"].mean()\n",
    "m3 = data.query(\"language_preferred == 'French' & landing_page == 'new'\")[\"time_spent_on_the_page\"].mean()\n",
    "\n",
    "print(\"The mean time spent on new landing page by users with preferred language 'Spanish' is:\", round(m1,2))\n",
    "print(\"The mean time spent on new landing page by users with preferred language 'English' is:\", round(m2,2))\n",
    "print(\"The mean time spent on new landing page by users with preferred language 'French' is:\", round(m3,2))"
   ]
  },
  {
   "cell_type": "code",
   "execution_count": 128,
   "id": "d984108f-3026-4a9e-9d32-0561cfb13a61",
   "metadata": {},
   "outputs": [
    {
     "data": {
      "image/png": "[encoded data removed]",
      "text/plain": [
       "<Figure size 640x480 with 1 Axes>"
      ]
     },
     "metadata": {},
     "output_type": "display_data"
    }
   ],
   "source": [
    "#Understanding the between group and with-in group variations using Box Plot\n",
    "\n",
    "plt.figsize = (10,15)\n",
    "sns.boxplot(data[data[\"landing_page\"] == 'new'], x=\"language_preferred\", y = \"time_spent_on_the_page\", palette='viridis')\n",
    "plt.show()"
   ]
  },
  {
   "cell_type": "markdown",
   "id": "ab598c41-bc43-4aeb-9556-5bad8cbdff07",
   "metadata": {},
   "source": [
    "#### ANOVA test\n",
    "\n",
    "Now, we define our H0 and Ha as:\n",
    "\n",
    "**H0: m1 = m2 = m3**\n",
    "\n",
    "**Ha: atleast one of the means is not equal to others**"
   ]
  },
  {
   "cell_type": "code",
   "execution_count": 129,
   "id": "841366a8-b173-4370-83c1-048d1f4cd4a0",
   "metadata": {},
   "outputs": [],
   "source": [
    "d1 = data.query(\"language_preferred == 'Spanish' & landing_page == 'new'\")[\"time_spent_on_the_page\"]\n",
    "d2 = data.query(\"language_preferred == 'English' & landing_page == 'new'\")[\"time_spent_on_the_page\"]\n",
    "d3 = data.query(\"language_preferred == 'French' & landing_page == 'new'\")[\"time_spent_on_the_page\"]"
   ]
  },
  {
   "cell_type": "code",
   "execution_count": 131,
   "id": "e9106baf-3175-476a-80a8-2861cd03b391",
   "metadata": {},
   "outputs": [
    {
     "name": "stdout",
     "output_type": "stream",
     "text": [
      "P-value is:  0.43204138694325955\n"
     ]
    }
   ],
   "source": [
    "from scipy.stats import f_oneway\n",
    "\n",
    "stat, pval = f_oneway(d1, d2, d3)\n",
    "\n",
    "print(\"P-value is: \", pval)"
   ]
  },
  {
   "cell_type": "markdown",
   "id": "cc4990db-9616-4fac-891e-6ec05d0ad394",
   "metadata": {},
   "source": [
    "#### Since the p-value (0.432) > Significance Level (0.05), we can FAIL TO REJECT the NULL Hypothesis\r\n",
    "\r\n",
    "### Hence, we conclude that _atleast one_ of the means is not equal to others"
   ]
  },
  {
   "cell_type": "markdown",
   "id": "f1941dfc-6034-4b00-ba7b-b73939e97499",
   "metadata": {},
   "source": [
    "## _------------------------- End -------------------------_"
   ]
  }
 ],
 "metadata": {
  "kernelspec": {
   "display_name": "Python 3 (ipykernel)",
   "language": "python",
   "name": "python3"
  },
  "language_info": {
   "codemirror_mode": {
    "name": "ipython",
    "version": 3
   },
   "file_extension": ".py",
   "mimetype": "text/x-python",
   "name": "python",
   "nbconvert_exporter": "python",
   "pygments_lexer": "ipython3",
   "version": "3.11.7"
  }
 },
 "nbformat": 4,
 "nbformat_minor": 5
}
